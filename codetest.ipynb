{
 "cells": [
  {
   "cell_type": "code",
   "execution_count": 111,
   "id": "0541d8db",
   "metadata": {},
   "outputs": [],
   "source": [
    "import os\n",
    "import glob\n",
    "\n",
    "import numpy as np\n",
    "import pandas as pd\n",
    "from tqdm import tqdm\n",
    "import matplotlib.pyplot as plt\n",
    "from sklearn.model_selection import train_test_split\n",
    "\n",
    "import torch\n",
    "import torch.nn as nn\n",
    "from torch.utils.data import Dataset, DataLoader, random_split\n",
    "from sklearn.preprocessing import MinMaxScaler"
   ]
  },
  {
   "cell_type": "code",
   "execution_count": 112,
   "id": "c9fb4ac2",
   "metadata": {},
   "outputs": [],
   "source": [
    "def load_clean_csv(path):\n",
    "    with open(path, 'r', encoding='utf-8-sig') as f:\n",
    "        lines = f.readlines()\n",
    "\n",
    "    header_idx = None\n",
    "    for i, line in enumerate(lines):\n",
    "        if \"날짜 시간\" in line:\n",
    "            header_idx = i\n",
    "            break\n",
    "\n",
    "    if header_idx is None:\n",
    "        raise ValueError(f\"'날짜 시간' 행을 찾을 수 없습니다: {path}\")\n",
    "\n",
    "    df = pd.read_csv(path, skiprows=header_idx)\n",
    "    df['날짜 시간'] = pd.to_datetime(df['날짜 시간'])\n",
    "    df['날짜'] = df['날짜 시간'].dt.date\n",
    "\n",
    "    # ---- 클로로필 관련 열 자동 탐색 ----\n",
    "    chl_cols = [c for c in df.columns if \"Chlorophyll\" in c and \"농도\" in c]\n",
    "\n",
    "    for col in chl_cols:\n",
    "        if \"(ppb)\" in col:\n",
    "            # ppb → µg/L 변환\n",
    "            df[col.replace(\"(ppb)\", \"(µg/L)\")] = df[col]\n",
    "            df.drop(columns=[col], inplace=True)\n",
    "            \n",
    "    return df"
   ]
  },
  {
   "cell_type": "code",
   "execution_count": 113,
   "id": "cd69eae7",
   "metadata": {},
   "outputs": [],
   "source": [
    "def summarize_point_folder(point_folder, save_dir):\n",
    "    \"\"\"하나의 포인트 폴더 내 모든 날짜 CSV를 불러와 평균 요약\"\"\"\n",
    "    summary_list = []\n",
    "\n",
    "    for date_folder in sorted(os.listdir(point_folder)):\n",
    "        date_path = os.path.join(point_folder, date_folder)\n",
    "        if not os.path.isdir(date_path):\n",
    "            continue  # 혹시 폴더 아닌게 섞여 있을 수도 있음\n",
    "\n",
    "        daily_dfs = []\n",
    "\n",
    "        for file in os.listdir(date_path):\n",
    "            if not file.endswith(\".csv\"):\n",
    "                continue\n",
    "            file_path = os.path.join(date_path, file)\n",
    "            try:\n",
    "                df = load_clean_csv(file_path)\n",
    "                daily_dfs.append(df)\n",
    "            except Exception as e:\n",
    "                print(f\"⚠️ {file_path} 로드 실패: {e}\")\n",
    "\n",
    "        if len(daily_dfs) == 0:\n",
    "            continue\n",
    "\n",
    "        # 여러 CSV를 concat 후 평균 계산\n",
    "        daily_df = pd.concat(daily_dfs)\n",
    "        daily_mean = daily_df.mean(numeric_only=True)\n",
    "        daily_mean[\"날짜\"] = pd.to_datetime(date_folder, format=\"%Y%m%d\").date()\n",
    "\n",
    "        summary_list.append(daily_mean)\n",
    "\n",
    "    # 날짜별 평균이 담긴 DataFrame 생성\n",
    "    if len(summary_list) > 0:\n",
    "        summary_df = pd.DataFrame(summary_list)\n",
    "        summary_df.sort_values(\"날짜\", inplace=True)\n",
    "        cols = [\"날짜\"] + [c for c in summary_df.columns if c != \"날짜\"]\n",
    "        summary_df = summary_df[cols]\n",
    "        \n",
    "        point_name = os.path.basename(point_folder.rstrip(\"/\\\\\"))\n",
    "        os.makedirs(save_dir, exist_ok=True)\n",
    "        save_path = os.path.join(save_dir, f\"{point_name}_summary.csv\")\n",
    "        summary_df.to_csv(save_path, index=False, encoding='utf-8-sig')\n",
    "        print(f\"✅ {point_name} 요약 CSV 저장 완료 → {save_path}\")\n",
    "    else:\n",
    "        print(f\"❌ {point_folder} 요약 데이터 없음.\")\n"
   ]
  },
  {
   "cell_type": "code",
   "execution_count": 114,
   "id": "cd92b9bc",
   "metadata": {},
   "outputs": [
    {
     "name": "stdout",
     "output_type": "stream",
     "text": [
      "490\n",
      "point_data\\포인트1\\20250402\\VuSitu_라이브_리딩_2025-04-02_11-07-40_장치_위치.csv\n"
     ]
    }
   ],
   "source": [
    "data_dir = \"point_data\"\n",
    "dataset = glob.glob(os.path.join(data_dir, \"**\", \"*.csv\"), recursive=True)\n",
    "print(len(dataset))\n",
    "print(dataset[0])"
   ]
  },
  {
   "cell_type": "code",
   "execution_count": 115,
   "id": "52c8ca61",
   "metadata": {},
   "outputs": [
    {
     "name": "stdout",
     "output_type": "stream",
     "text": [
      "파일 경로: point_data\\포인트1\\20250402\\VuSitu_라이브_리딩_2025-04-02_11-07-40_장치_위치.csv\n",
      "데이터 shape: (69, 26)\n",
      "컬럼명: ['날짜 시간', 'Actual Conductivity (µS/cm) (1066342)', 'Specific Conductivity (µS/cm) (1066342)', '염도 (PSU) (1066342)', '저항력 (Ω⋅cm) (1066342)', '밀도 (g/cm³) (1066342)', '총 용존 고형물 (TDS) (ppt) (1066342)', 'pH (pH) (1057024)', 'pH mV (mV) (1057024)', 'ORP (mV) (1057024)', '온도 (°C) (1068851)', '압력 (psi) (1064654)', '깊이 (m) (1064654)', '표면 고도 (m) (1064654)', 'RDO 농도 (mg/L) (954526)', 'RDO 포화 (%Sat) (954526)', '산소분압 (Torr) (954526)', 'Chlorophyll-a Fluorescence (RFU) (945787)', 'Chlorophyll-a 농도 (µg/L) (945787)', '외부 전압 (V) (1068851)', '대기압 (mbar) (1049665)', '온도 (°C) (1049665)', '위도 (°)', '경도 (°)', '표시됨', '날짜']\n"
     ]
    }
   ],
   "source": [
    "sample_path = dataset[0]\n",
    "df = load_clean_csv(sample_path)\n",
    "\n",
    "print(\"파일 경로:\", sample_path)\n",
    "print(\"데이터 shape:\", df.shape)\n",
    "print(\"컬럼명:\", df.columns.tolist())\n",
    "# print(df.head())"
   ]
  },
  {
   "cell_type": "code",
   "execution_count": 116,
   "id": "855279cf",
   "metadata": {},
   "outputs": [
    {
     "name": "stdout",
     "output_type": "stream",
     "text": [
      "392 49 49\n"
     ]
    }
   ],
   "source": [
    "data_num = len(dataset)\n",
    "train_dataset, val_dataset, test_dataset = dataset[:int(data_num*0.8)], dataset[int(data_num*0.8):int(data_num*0.9)], dataset[int(data_num*0.9):]\n",
    "print(len(train_dataset), len(val_dataset), len(test_dataset))"
   ]
  },
  {
   "cell_type": "code",
   "execution_count": 117,
   "id": "652b0423",
   "metadata": {},
   "outputs": [],
   "source": [
    "# def make_sequences(df_point, input_days=7):\n",
    "#     X, y = [], []\n",
    "#     for i in range(len(df_point) - input_days):\n",
    "#         X.append(df_point.iloc[i:i+input_days].values)\n",
    "#         y.append(df_point.iloc[i+input_days][\"chlorophyll\"])  # 다음날 예측\n",
    "#     return np.array(X), np.array(y)"
   ]
  },
  {
   "cell_type": "code",
   "execution_count": 118,
   "id": "7f9c279d",
   "metadata": {},
   "outputs": [],
   "source": [
    "class VanillaLSTM(nn.Module):\n",
    "    def __init__(self, input_size, hidden_size, num_layers, output_size):\n",
    "        \"\"\"\n",
    "        input_size: 입력 feature 수\n",
    "        hidden_size: LSTM hidden 차원\n",
    "        num_layers: LSTM 층 수\n",
    "        output_size: 예측값 차원\n",
    "        \"\"\"\n",
    "        super(VanillaLSTM, self).__init__()\n",
    "        self.lstm = nn.LSTM(\n",
    "            input_size=input_size,\n",
    "            hidden_size=hidden_size,\n",
    "            num_layers=num_layers,\n",
    "            batch_first=True\n",
    "        )\n",
    "        self.fc = nn.Linear(hidden_size, output_size)\n",
    "\n",
    "    def forward(self, x):\n",
    "        \"\"\"\n",
    "        x: [batch_size, seq_len, input_size]\n",
    "        \"\"\"\n",
    "        out, _ = self.lstm(x)       # out: [batch, seq_len, hidden_size]\n",
    "        out = out[:, -1, :]          # 마지막 시점 출력\n",
    "        out = self.fc(out)           # [batch, output_size]\n",
    "        return out"
   ]
  },
  {
   "cell_type": "code",
   "execution_count": 119,
   "id": "0e33b475",
   "metadata": {},
   "outputs": [],
   "source": [
    "class TimeSeriesDataset(Dataset):\n",
    "    def __init__(self, X, y):\n",
    "        self.X = torch.tensor(X, dtype=torch.float32)\n",
    "        self.y = torch.tensor(y, dtype=torch.float32)\n",
    "    def __len__(self):\n",
    "        return len(self.X)\n",
    "    def __getitem__(self, idx):\n",
    "        return self.X[idx], self.y[idx]"
   ]
  },
  {
   "cell_type": "code",
   "execution_count": 120,
   "id": "c13afdbf",
   "metadata": {},
   "outputs": [
    {
     "name": "stdout",
     "output_type": "stream",
     "text": [
      "✅ 포인트1 요약 CSV 저장 완료 → summaries\\포인트1_summary.csv\n",
      "✅ 포인트2 요약 CSV 저장 완료 → summaries\\포인트2_summary.csv\n",
      "✅ 포인트3 요약 CSV 저장 완료 → summaries\\포인트3_summary.csv\n",
      "✅ 포인트4 요약 CSV 저장 완료 → summaries\\포인트4_summary.csv\n",
      "✅ 포인트5 요약 CSV 저장 완료 → summaries\\포인트5_summary.csv\n"
     ]
    }
   ],
   "source": [
    "dataset_root = \"point_data\"      # 포인트 폴더들이 들어 있는 상위 폴더\n",
    "output_dir = \"summaries\"      # 요약본 저장 폴더\n",
    "os.makedirs(output_dir, exist_ok=True)\n",
    "\n",
    "for point_folder in sorted(os.listdir(dataset_root)):\n",
    "    full_path = os.path.join(dataset_root, point_folder)\n",
    "    if os.path.isdir(full_path):\n",
    "        summarize_point_folder(full_path, output_dir)"
   ]
  },
  {
   "cell_type": "code",
   "execution_count": 121,
   "id": "caa7d83a",
   "metadata": {},
   "outputs": [
    {
     "name": "stdout",
     "output_type": "stream",
     "text": [
      "Features shape: (31, 23)\n",
      "X shape: (24, 7, 23), y shape: (24, 23)\n",
      "24 samples in dataset\n"
     ]
    }
   ],
   "source": [
    "import torch\n",
    "import torch.nn as nn\n",
    "from torch.utils.data import Dataset, DataLoader, random_split\n",
    "from sklearn.preprocessing import MinMaxScaler\n",
    "\n",
    "df = pd.read_csv(\"summaries/포인트1_summary.csv\")\n",
    "\n",
    "# 날짜 제거 (index로 쓰거나 feature에서 제외)\n",
    "df['날짜'] = pd.to_datetime(df['날짜'])\n",
    "df = df.sort_values('날짜')\n",
    "features = df.drop(columns=['날짜', '표시됨']).values\n",
    "print(\"Features shape:\", features.shape)\n",
    "\n",
    "# 정규화 (LSTM은 scale 민감)\n",
    "scaler = MinMaxScaler()\n",
    "features = scaler.fit_transform(features)\n",
    "\n",
    "seq_len = 7\n",
    "X, y = [], []\n",
    "for i in range(len(features) - seq_len):\n",
    "    X.append(features[i:i+seq_len])    # 7일 입력\n",
    "    y.append(features[i+seq_len])      # 다음날 출력\n",
    "X = np.array(X)\n",
    "y = np.array(y)\n",
    "dataset = TimeSeriesDataset(X, y)\n",
    "print(f\"X shape: {X.shape}, y shape: {y.shape}\")\n",
    "print(len(dataset), \"samples in dataset\")\n",
    "\n",
    "n_total = len(dataset)\n",
    "n_train = int(n_total * 0.8)\n",
    "n_val = int(n_total * 0.1)\n",
    "n_test = n_total - n_train - n_val\n",
    "\n",
    "train_set, val_set, test_set = random_split(dataset, [n_train, n_val, n_test])\n",
    "train_loader = DataLoader(train_set, batch_size=8, shuffle=True)\n",
    "val_loader = DataLoader(val_set, batch_size=8)\n",
    "test_loader = DataLoader(test_set, batch_size=8)\n",
    "\n",
    "input_size = X.shape[2]\n",
    "hidden_size = 64\n",
    "num_layers = 2\n",
    "output_size = y.shape[1]\n",
    "model = VanillaLSTM(input_size, hidden_size, num_layers, output_size)\n",
    "criterion = nn.MSELoss()\n",
    "optimizer = torch.optim.Adam(model.parameters(), lr=0.001)"
   ]
  },
  {
   "cell_type": "code",
   "execution_count": 122,
   "id": "7c146513",
   "metadata": {},
   "outputs": [
    {
     "name": "stdout",
     "output_type": "stream",
     "text": [
      "🔍 NaN 개수: 0\n",
      "🔍 inf 개수: 0\n",
      "🔍 각 컬럼별 최소/최대:\n",
      "   min  max\n",
      "0  0.0  1.0\n",
      "1  0.0  1.0\n",
      "2  0.0  1.0\n",
      "3  0.0  1.0\n",
      "4  0.0  1.0\n"
     ]
    }
   ],
   "source": [
    "print(\"🔍 NaN 개수:\", np.isnan(features).sum())\n",
    "print(\"🔍 inf 개수:\", np.isinf(features).sum())\n",
    "print(\"🔍 각 컬럼별 최소/최대:\")\n",
    "print(pd.DataFrame(features).agg(['min', 'max']).T.head())"
   ]
  },
  {
   "cell_type": "code",
   "execution_count": 123,
   "id": "b0fa7ae2",
   "metadata": {},
   "outputs": [
    {
     "name": "stdout",
     "output_type": "stream",
     "text": [
      "Epoch [1/100] Train Loss: 0.297517 | Val Loss: 0.290937\n",
      "Epoch [2/100] Train Loss: 0.269970 | Val Loss: 0.267883\n",
      "Epoch [3/100] Train Loss: 0.245167 | Val Loss: 0.237121\n",
      "Epoch [4/100] Train Loss: 0.222990 | Val Loss: 0.194398\n",
      "Epoch [5/100] Train Loss: 0.168360 | Val Loss: 0.142517\n",
      "Epoch [6/100] Train Loss: 0.107586 | Val Loss: 0.112828\n",
      "Epoch [7/100] Train Loss: 0.078701 | Val Loss: 0.136103\n",
      "Epoch [8/100] Train Loss: 0.078421 | Val Loss: 0.143539\n",
      "Epoch [9/100] Train Loss: 0.074571 | Val Loss: 0.132265\n",
      "Epoch [10/100] Train Loss: 0.055430 | Val Loss: 0.124070\n",
      "Epoch [11/100] Train Loss: 0.065806 | Val Loss: 0.124746\n",
      "Epoch [12/100] Train Loss: 0.064849 | Val Loss: 0.120975\n",
      "Epoch [13/100] Train Loss: 0.062420 | Val Loss: 0.116560\n",
      "Epoch [14/100] Train Loss: 0.060093 | Val Loss: 0.115579\n",
      "Epoch [15/100] Train Loss: 0.055698 | Val Loss: 0.118456\n",
      "Epoch [16/100] Train Loss: 0.055281 | Val Loss: 0.120062\n",
      "Epoch [17/100] Train Loss: 0.053885 | Val Loss: 0.122387\n",
      "Epoch [18/100] Train Loss: 0.060165 | Val Loss: 0.124190\n",
      "Epoch [19/100] Train Loss: 0.057829 | Val Loss: 0.122672\n",
      "Epoch [20/100] Train Loss: 0.053493 | Val Loss: 0.118359\n",
      "Epoch [21/100] Train Loss: 0.064218 | Val Loss: 0.116179\n",
      "Epoch [22/100] Train Loss: 0.052468 | Val Loss: 0.113923\n",
      "Epoch [23/100] Train Loss: 0.057017 | Val Loss: 0.115645\n",
      "Epoch [24/100] Train Loss: 0.051113 | Val Loss: 0.114005\n",
      "Epoch [25/100] Train Loss: 0.049577 | Val Loss: 0.112085\n",
      "Epoch [26/100] Train Loss: 0.056998 | Val Loss: 0.111944\n",
      "Epoch [27/100] Train Loss: 0.053750 | Val Loss: 0.112010\n",
      "Epoch [28/100] Train Loss: 0.049653 | Val Loss: 0.109124\n",
      "Epoch [29/100] Train Loss: 0.055319 | Val Loss: 0.106874\n",
      "Epoch [30/100] Train Loss: 0.046824 | Val Loss: 0.102787\n",
      "Epoch [31/100] Train Loss: 0.046515 | Val Loss: 0.104518\n",
      "Epoch [32/100] Train Loss: 0.050064 | Val Loss: 0.106757\n",
      "Epoch [33/100] Train Loss: 0.059324 | Val Loss: 0.103893\n",
      "Epoch [34/100] Train Loss: 0.050949 | Val Loss: 0.099922\n",
      "Epoch [35/100] Train Loss: 0.052815 | Val Loss: 0.099809\n",
      "Epoch [36/100] Train Loss: 0.044578 | Val Loss: 0.100139\n",
      "Epoch [37/100] Train Loss: 0.042291 | Val Loss: 0.096745\n",
      "Epoch [38/100] Train Loss: 0.042842 | Val Loss: 0.094372\n",
      "Epoch [39/100] Train Loss: 0.039585 | Val Loss: 0.091573\n",
      "Epoch [40/100] Train Loss: 0.037012 | Val Loss: 0.088802\n",
      "Epoch [41/100] Train Loss: 0.041285 | Val Loss: 0.084647\n",
      "Epoch [42/100] Train Loss: 0.037680 | Val Loss: 0.077701\n",
      "Epoch [43/100] Train Loss: 0.041162 | Val Loss: 0.076355\n",
      "Epoch [44/100] Train Loss: 0.037796 | Val Loss: 0.078147\n",
      "Epoch [45/100] Train Loss: 0.038139 | Val Loss: 0.075201\n",
      "Epoch [46/100] Train Loss: 0.037043 | Val Loss: 0.072561\n",
      "Epoch [47/100] Train Loss: 0.032851 | Val Loss: 0.071323\n",
      "Epoch [48/100] Train Loss: 0.031633 | Val Loss: 0.068262\n",
      "Epoch [49/100] Train Loss: 0.031652 | Val Loss: 0.066084\n",
      "Epoch [50/100] Train Loss: 0.034396 | Val Loss: 0.064938\n",
      "Epoch [51/100] Train Loss: 0.034139 | Val Loss: 0.061066\n",
      "Epoch [52/100] Train Loss: 0.029742 | Val Loss: 0.058075\n",
      "Epoch [53/100] Train Loss: 0.033990 | Val Loss: 0.060711\n",
      "Epoch [54/100] Train Loss: 0.029362 | Val Loss: 0.057550\n",
      "Epoch [55/100] Train Loss: 0.030141 | Val Loss: 0.053765\n",
      "Epoch [56/100] Train Loss: 0.033435 | Val Loss: 0.050238\n",
      "Epoch [57/100] Train Loss: 0.031858 | Val Loss: 0.049657\n",
      "Epoch [58/100] Train Loss: 0.029095 | Val Loss: 0.048894\n",
      "Epoch [59/100] Train Loss: 0.026692 | Val Loss: 0.050450\n",
      "Epoch [60/100] Train Loss: 0.031748 | Val Loss: 0.054703\n",
      "Epoch [61/100] Train Loss: 0.028739 | Val Loss: 0.056966\n",
      "Epoch [62/100] Train Loss: 0.029033 | Val Loss: 0.049839\n",
      "Epoch [63/100] Train Loss: 0.033874 | Val Loss: 0.046858\n",
      "Epoch [64/100] Train Loss: 0.028005 | Val Loss: 0.046978\n",
      "Epoch [65/100] Train Loss: 0.027966 | Val Loss: 0.049789\n",
      "Epoch [66/100] Train Loss: 0.031470 | Val Loss: 0.047875\n",
      "Epoch [67/100] Train Loss: 0.027339 | Val Loss: 0.044654\n",
      "Epoch [68/100] Train Loss: 0.028420 | Val Loss: 0.045971\n",
      "Epoch [69/100] Train Loss: 0.026428 | Val Loss: 0.047164\n",
      "Epoch [70/100] Train Loss: 0.024217 | Val Loss: 0.047416\n",
      "Epoch [71/100] Train Loss: 0.026352 | Val Loss: 0.044481\n",
      "Epoch [72/100] Train Loss: 0.024398 | Val Loss: 0.046177\n",
      "Epoch [73/100] Train Loss: 0.023821 | Val Loss: 0.049752\n",
      "Epoch [74/100] Train Loss: 0.023244 | Val Loss: 0.049116\n",
      "Epoch [75/100] Train Loss: 0.025336 | Val Loss: 0.047735\n",
      "Epoch [76/100] Train Loss: 0.026820 | Val Loss: 0.046532\n",
      "Epoch [77/100] Train Loss: 0.022801 | Val Loss: 0.047474\n",
      "Epoch [78/100] Train Loss: 0.026070 | Val Loss: 0.045434\n",
      "Epoch [79/100] Train Loss: 0.024170 | Val Loss: 0.046427\n",
      "Epoch [80/100] Train Loss: 0.022431 | Val Loss: 0.050569\n",
      "Epoch [81/100] Train Loss: 0.025910 | Val Loss: 0.054580\n",
      "Epoch [82/100] Train Loss: 0.023312 | Val Loss: 0.054892\n",
      "Epoch [83/100] Train Loss: 0.020613 | Val Loss: 0.053918\n",
      "Epoch [84/100] Train Loss: 0.022916 | Val Loss: 0.050245\n",
      "Epoch [85/100] Train Loss: 0.021059 | Val Loss: 0.051331\n",
      "Epoch [86/100] Train Loss: 0.019735 | Val Loss: 0.054135\n",
      "Epoch [87/100] Train Loss: 0.019545 | Val Loss: 0.052260\n",
      "Epoch [88/100] Train Loss: 0.021254 | Val Loss: 0.045451\n",
      "Epoch [89/100] Train Loss: 0.021001 | Val Loss: 0.046487\n",
      "Epoch [90/100] Train Loss: 0.021490 | Val Loss: 0.055798\n",
      "Epoch [91/100] Train Loss: 0.018625 | Val Loss: 0.056514\n",
      "Epoch [92/100] Train Loss: 0.019747 | Val Loss: 0.051606\n",
      "Epoch [93/100] Train Loss: 0.019005 | Val Loss: 0.047581\n",
      "Epoch [94/100] Train Loss: 0.017943 | Val Loss: 0.048846\n",
      "Epoch [95/100] Train Loss: 0.017225 | Val Loss: 0.048414\n",
      "Epoch [96/100] Train Loss: 0.018913 | Val Loss: 0.045757\n",
      "Epoch [97/100] Train Loss: 0.017052 | Val Loss: 0.047672\n",
      "Epoch [98/100] Train Loss: 0.017634 | Val Loss: 0.052224\n",
      "Epoch [99/100] Train Loss: 0.015931 | Val Loss: 0.057212\n",
      "Epoch [100/100] Train Loss: 0.016627 | Val Loss: 0.053238\n"
     ]
    }
   ],
   "source": [
    "num_epochs = 100\n",
    "for epoch in range(num_epochs):\n",
    "    model.train()\n",
    "    total_loss = 0\n",
    "    for X_batch, y_batch in train_loader:\n",
    "        optimizer.zero_grad()\n",
    "        output = model(X_batch)\n",
    "        loss = criterion(output, y_batch)\n",
    "        loss.backward()\n",
    "        optimizer.step()\n",
    "        total_loss += loss.item()\n",
    "\n",
    "    # 검증\n",
    "    model.eval()\n",
    "    val_loss = 0\n",
    "    with torch.no_grad():\n",
    "        for X_val, y_val in val_loader:\n",
    "            preds = model(X_val)\n",
    "            val_loss += criterion(preds, y_val).item()\n",
    "\n",
    "    print(f\"Epoch [{epoch+1}/{num_epochs}] Train Loss: {total_loss/len(train_loader):.6f} | Val Loss: {val_loss/len(val_loader):.6f}\")\n"
   ]
  },
  {
   "cell_type": "code",
   "execution_count": 124,
   "id": "ad82d89c",
   "metadata": {},
   "outputs": [
    {
     "name": "stdout",
     "output_type": "stream",
     "text": [
      "\n",
      "✅ Test Loss: 0.021784\n"
     ]
    }
   ],
   "source": [
    "model.eval()\n",
    "test_loss = 0\n",
    "with torch.no_grad():\n",
    "    for X_test, y_test in test_loader:\n",
    "        preds = model(X_test)\n",
    "        test_loss += criterion(preds, y_test).item()\n",
    "print(f\"\\n✅ Test Loss: {test_loss/len(test_loader):.6f}\")"
   ]
  },
  {
   "cell_type": "code",
   "execution_count": 129,
   "id": "6bb2925a",
   "metadata": {},
   "outputs": [
    {
     "name": "stderr",
     "output_type": "stream",
     "text": [
      "C:\\Users\\ty\\AppData\\Local\\Temp\\ipykernel_4472\\3124369121.py:3: UserWarning: To copy construct from a tensor, it is recommended to use sourceTensor.clone().detach() or sourceTensor.clone().detach().requires_grad_(True), rather than torch.tensor(sourceTensor).\n",
      "  X_val_tensor = torch.tensor(X_val, dtype=torch.float32)\n",
      "C:\\Users\\ty\\AppData\\Local\\Temp\\ipykernel_4472\\3124369121.py:4: UserWarning: To copy construct from a tensor, it is recommended to use sourceTensor.clone().detach() or sourceTensor.clone().detach().requires_grad_(True), rather than torch.tensor(sourceTensor).\n",
      "  y_val_tensor = torch.tensor(y_val, dtype=torch.float32)\n"
     ]
    },
    {
     "data": {
      "image/png": "[encoded data removed]",
      "text/plain": [
       "<Figure size 600x600 with 1 Axes>"
      ]
     },
     "metadata": {},
     "output_type": "display_data"
    },
    {
     "name": "stdout",
     "output_type": "stream",
     "text": [
      "Validation RMSE: 0.2307\n"
     ]
    }
   ],
   "source": [
    "model.eval()\n",
    "\n",
    "X_val_tensor = torch.tensor(X_val, dtype=torch.float32)\n",
    "y_val_tensor = torch.tensor(y_val, dtype=torch.float32)\n",
    "\n",
    "with torch.no_grad():\n",
    "    y_pred = model(X_val_tensor).squeeze().numpy()  # 예측값\n",
    "\n",
    "# 실제 값\n",
    "y_true = y_val_tensor.numpy()\n",
    "\n",
    "# 2. 산점도로 비교 (예측 vs 실제)\n",
    "plt.figure(figsize=(6,6))\n",
    "plt.scatter(y_true, y_pred, alpha=0.7)\n",
    "plt.plot([y_true.min(), y_true.max()], [y_true.min(), y_true.max()], 'r--')  # y=x 기준선\n",
    "plt.xlabel(\"Actual\")\n",
    "plt.ylabel(\"Predicted\")\n",
    "plt.title(\"Prediction vs Actual Scatter\")\n",
    "plt.show()\n",
    "\n",
    "# 3. RMSE 계산\n",
    "from sklearn.metrics import mean_squared_error\n",
    "\n",
    "rmse = np.sqrt(mean_squared_error(y_true, y_pred))\n",
    "print(f\"Validation RMSE: {rmse:.4f}\")"
   ]
  },
  {
   "cell_type": "code",
   "execution_count": 128,
   "id": "9b0e8e92",
   "metadata": {},
   "outputs": [
    {
     "data": {
      "image/png": "[encoded data removed]",
      "text/plain": [
       "<Figure size 600x600 with 1 Axes>"
      ]
     },
     "metadata": {},
     "output_type": "display_data"
    },
    {
     "name": "stdout",
     "output_type": "stream",
     "text": [
      "Test MSE: 0.0218, RMSE: 0.1476\n"
     ]
    }
   ],
   "source": [
    "model.eval()  # 평가 모드로 전환\n",
    "all_preds = []\n",
    "all_labels = []\n",
    "\n",
    "with torch.no_grad():\n",
    "    for X_batch, y_batch in test_loader:\n",
    "        X_batch = X_batch.float()\n",
    "        y_batch = y_batch.float()\n",
    "\n",
    "        y_pred = model(X_batch)\n",
    "        all_preds.append(y_pred.cpu())\n",
    "        all_labels.append(y_batch.cpu())\n",
    "\n",
    "# 결과 합치기\n",
    "y_pred = torch.cat(all_preds, dim=0).numpy()\n",
    "y_true = torch.cat(all_labels, dim=0).numpy()\n",
    "\n",
    "# 예측 vs 실제 시각화\n",
    "import matplotlib.pyplot as plt\n",
    "\n",
    "plt.figure(figsize=(6,6))\n",
    "plt.scatter(y_true, y_pred, alpha=0.7)\n",
    "plt.plot([y_true.min(), y_true.max()], [y_true.min(), y_true.max()], 'r--')  # y=x 기준선\n",
    "plt.xlabel(\"Actual\")\n",
    "plt.ylabel(\"Predicted\")\n",
    "plt.title(\"Prediction vs Actual Scatter\")\n",
    "plt.show()\n",
    "\n",
    "# 성능 지표 예: MSE, RMSE\n",
    "from sklearn.metrics import mean_squared_error\n",
    "mse = mean_squared_error(y_true, y_pred)\n",
    "rmse = mse ** 0.5\n",
    "print(f\"Test MSE: {mse:.4f}, RMSE: {rmse:.4f}\")\n"
   ]
  },
  {
   "cell_type": "code",
   "execution_count": null,
   "id": "630a3614",
   "metadata": {},
   "outputs": [],
   "source": []
  }
 ],
 "metadata": {
  "kernelspec": {
   "display_name": "damn",
   "language": "python",
   "name": "python3"
  },
  "language_info": {
   "codemirror_mode": {
    "name": "ipython",
    "version": 3
   },
   "file_extension": ".py",
   "mimetype": "text/x-python",
   "name": "python",
   "nbconvert_exporter": "python",
   "pygments_lexer": "ipython3",
   "version": "3.12.12"
  }
 },
 "nbformat": 4,
 "nbformat_minor": 5
}
