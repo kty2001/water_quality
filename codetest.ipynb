{
 "cells": [
  {
   "cell_type": "code",
   "execution_count": 18,
   "id": "0541d8db",
   "metadata": {},
   "outputs": [],
   "source": [
    "import os\n",
    "import glob\n",
    "\n",
    "import numpy as np\n",
    "import pandas as pd\n",
    "from tqdm import tqdm\n",
    "from sklearn.model_selection import train_test_split\n",
    "\n",
    "import torch\n",
    "import torch.nn as nn"
   ]
  },
  {
   "cell_type": "code",
   "execution_count": 13,
   "id": "c9fb4ac2",
   "metadata": {},
   "outputs": [],
   "source": [
    "def load_clean_csv(path):\n",
    "    with open(path, 'r', encoding='utf-8') as f:\n",
    "        lines = f.readlines()\n",
    "\n",
    "    # '날짜 시간' 행의 위치를 찾아 그 전까지 스킵\n",
    "    header_idx = None\n",
    "    for i, line in enumerate(lines):\n",
    "        if line.strip().startswith(\"날짜 시간\"):\n",
    "            header_idx = i\n",
    "            break\n",
    "\n",
    "    if header_idx is None:\n",
    "        raise ValueError(f\"'날짜 시간' 행을 찾을 수 없습니다: {path}\")\n",
    "\n",
    "    # pandas로 테이블 부분만 읽기\n",
    "    df = pd.read_csv(path, skiprows=header_idx)\n",
    "    return df"
   ]
  },
  {
   "cell_type": "code",
   "execution_count": 12,
   "id": "cd92b9bc",
   "metadata": {},
   "outputs": [],
   "source": [
    "data_dir = \"data\"\n",
    "dataset = glob.glob(os.path.join(data_dir, \"**\", \"*.csv\"), recursive=True)"
   ]
  },
  {
   "cell_type": "code",
   "execution_count": 15,
   "id": "52c8ca61",
   "metadata": {},
   "outputs": [
    {
     "name": "stdout",
     "output_type": "stream",
     "text": [
      "파일 경로: data\\20250401\\포인트3\\VuSitu_라이브_리딩_2025-04-01_12-26-23_장치_위치.csv\n",
      "데이터 shape: (66, 25)\n",
      "컬럼명: ['날짜 시간', 'Actual Conductivity (µS/cm) (1066342)', 'Specific Conductivity (µS/cm) (1066342)', '염도 (PSU) (1066342)', '저항력 (Ω⋅cm) (1066342)', '밀도 (g/cm³) (1066342)', '총 용존 고형물 (TDS) (ppt) (1066342)', 'pH (pH) (1057024)', 'pH mV (mV) (1057024)', 'ORP (mV) (1057024)', '온도 (°C) (1068851)', '압력 (psi) (1064654)', '깊이 (m) (1064654)', '표면 고도 (m) (1064654)', 'RDO 농도 (mg/L) (954526)', 'RDO 포화 (%Sat) (954526)', '산소분압 (Torr) (954526)', 'Chlorophyll-a Fluorescence (RFU) (945787)', 'Chlorophyll-a 농도 (µg/L) (945787)', '외부 전압 (V) (1068851)', '대기압 (mbar) (1049665)', '온도 (°C) (1049665)', '위도 (°)', '경도 (°)', '표시됨']\n"
     ]
    }
   ],
   "source": [
    "sample_path = dataset[0]\n",
    "df = load_clean_csv(sample_path)\n",
    "\n",
    "print(\"파일 경로:\", sample_path)\n",
    "print(\"데이터 shape:\", df.shape)\n",
    "print(\"컬럼명:\", df.columns.tolist())\n",
    "# print(df.head())"
   ]
  },
  {
   "cell_type": "code",
   "execution_count": 16,
   "id": "855279cf",
   "metadata": {},
   "outputs": [
    {
     "name": "stdout",
     "output_type": "stream",
     "text": [
      "392 49 49\n"
     ]
    }
   ],
   "source": [
    "data_num = len(dataset)\n",
    "train_dataset, val_dataset, test_dataset = dataset[:int(data_num*0.8)], dataset[int(data_num*0.8):int(data_num*0.9)], dataset[int(data_num*0.9):]\n",
    "print(len(train_dataset), len(val_dataset), len(test_dataset))"
   ]
  },
  {
   "cell_type": "code",
   "execution_count": 19,
   "id": "652b0423",
   "metadata": {},
   "outputs": [],
   "source": [
    "def make_sequences(df_point, input_days=7):\n",
    "    X, y = [], []\n",
    "    for i in range(len(df_point) - input_days):\n",
    "        X.append(df_point.iloc[i:i+input_days].values)\n",
    "        y.append(df_point.iloc[i+input_days][\"chlorophyll\"])  # 다음날 예측\n",
    "    return np.array(X), np.array(y)"
   ]
  },
  {
   "cell_type": "code",
   "execution_count": null,
   "id": "7f9c279d",
   "metadata": {},
   "outputs": [],
   "source": [
    "class VanillaLSTM(nn.Module):\n",
    "    def __init__(self, input_size, hidden_size, num_layers, output_size):\n",
    "        \"\"\"\n",
    "        input_size: 입력 feature 수\n",
    "        hidden_size: LSTM hidden 차원\n",
    "        num_layers: LSTM 층 수\n",
    "        output_size: 예측값 차원\n",
    "        \"\"\"\n",
    "        super(VanillaLSTM, self).__init__()\n",
    "        self.lstm = nn.LSTM(\n",
    "            input_size=input_size,\n",
    "            hidden_size=hidden_size,\n",
    "            num_layers=num_layers,\n",
    "            batch_first=True\n",
    "        )\n",
    "        self.fc = nn.Linear(hidden_size, output_size)\n",
    "\n",
    "    def forward(self, x):\n",
    "        \"\"\"\n",
    "        x: [batch_size, seq_len, input_size]\n",
    "        \"\"\"\n",
    "        out, _ = self.lstm(x)       # out: [batch, seq_len, hidden_size]\n",
    "        out = out[:, -1, :]          # 마지막 시점 출력\n",
    "        out = self.fc(out)           # [batch, output_size]\n",
    "        return out"
   ]
  },
  {
   "cell_type": "code",
   "execution_count": null,
   "id": "975837bf",
   "metadata": {},
   "outputs": [],
   "source": []
  }
 ],
 "metadata": {
  "kernelspec": {
   "display_name": "damn",
   "language": "python",
   "name": "python3"
  },
  "language_info": {
   "codemirror_mode": {
    "name": "ipython",
    "version": 3
   },
   "file_extension": ".py",
   "mimetype": "text/x-python",
   "name": "python",
   "nbconvert_exporter": "python",
   "pygments_lexer": "ipython3",
   "version": "3.12.12"
  }
 },
 "nbformat": 4,
 "nbformat_minor": 5
}
